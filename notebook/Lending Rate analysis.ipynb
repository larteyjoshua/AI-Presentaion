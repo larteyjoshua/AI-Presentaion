{
 "cells": [
  {
   "cell_type": "markdown",
   "id": "4102113d",
   "metadata": {},
   "source": [
    "# Lending Rate Data Analysis"
   ]
  },
  {
   "cell_type": "markdown",
   "id": "99f93628",
   "metadata": {},
   "source": [
    "## Introduction"
   ]
  },
  {
   "cell_type": "markdown",
   "id": "bc4a7078",
   "metadata": {},
   "source": [
    "Lending rate refers to the interest rate charged by a lender to a borrower for the use of borrowed funds. It is the cost of borrowing money and is typically expressed as a percentage."
   ]
  },
  {
   "cell_type": "markdown",
   "id": "e11cd8a6",
   "metadata": {},
   "source": [
    "## Factors that affect Lending Rates in Ghana"
   ]
  },
  {
   "cell_type": "markdown",
   "id": "d776b03d",
   "metadata": {},
   "source": [
    "- **Monetary Policy**: The policies set by the Bank of Ghana, such as the benchmark interest rate (the policy rate), can directly impact lending rates in the country. Changes in the policy rate can lead to adjustments in commercial banks' lending rates.\n",
    "\n",
    "\n",
    "\n",
    "- **Inflation**: High inflation can erode the purchasing power of money, leading to higher lending rates to compensate for the expected loss in the value of the loaned funds over time.\n",
    "\n",
    "\n",
    "\n",
    "- **Credit Risk**: Lenders consider the creditworthiness of borrowers before setting lending rates. Higher credit risk associated with borrowers may result in higher interest rates to offset potential losses.\n",
    "\n",
    "\n",
    "\n",
    "- **Market Competition**: A competitive banking sector can exert downward pressure on lending rates as banks vie for customers. Conversely, less competition can lead to higher lending rates.\n",
    "\n",
    "\n",
    "\n",
    "- **Economic Conditions**: The overall health of the Ghanaian economy can influence lending rates. During periods of economic growth and stability, lending rates may be lower, while economic downturns may lead to higher rates.\n",
    "\n",
    "\n",
    "\n",
    "- **Central Bank Regulations**: Central bank regulations and reserve requirements can affect the liquidity and cost of funds for commercial banks, influencing their lending rates.\n",
    "\n",
    "\n",
    "\n",
    "- **Exchange Rates**: Ghana's lending rates can be affected by exchange rate fluctuations, especially if borrowers have exposure to foreign currencies, leading to potential currency risk.\n",
    "\n",
    "\n",
    "\n",
    "- **Government Policy**: Government initiatives or policies that impact the financial sector can also have indirect effects on lending rates.\n",
    "\n",
    "\n",
    "These factors interact with each other, and their combined influence determines the prevailing lending rates in Ghana."
   ]
  },
  {
   "cell_type": "code",
   "execution_count": 5,
   "id": "a6e6f881",
   "metadata": {},
   "outputs": [],
   "source": [
    "#importing Packages"
   ]
  },
  {
   "cell_type": "code",
   "execution_count": 7,
   "id": "3289ae3c",
   "metadata": {},
   "outputs": [],
   "source": [
    "# Import the necessary libraries\n",
    "import numpy as np\n",
    "import pandas as pd\n",
    "from sklearn.linear_model import LinearRegression\n",
    "import matplotlib.pyplot as plt\n",
    "import seaborn as sns\n",
    "%matplotlib inline\n",
    "from sklearn.model_selection import train_test_split"
   ]
  },
  {
   "cell_type": "markdown",
   "id": "a057dc9b",
   "metadata": {},
   "source": [
    "### Loading Dataset"
   ]
  },
  {
   "cell_type": "code",
   "execution_count": 8,
   "id": "c4597ab2",
   "metadata": {},
   "outputs": [],
   "source": [
    "lending_rate_data = pd.read_csv('lending_rate_data.csv')"
   ]
  },
  {
   "cell_type": "markdown",
   "id": "00a6ae6d",
   "metadata": {},
   "source": [
    "### Performing Data Analysis"
   ]
  },
  {
   "cell_type": "code",
   "execution_count": 9,
   "id": "997c0e8a",
   "metadata": {},
   "outputs": [
    {
     "data": {
      "text/html": [
       "<div>\n",
       "<style scoped>\n",
       "    .dataframe tbody tr th:only-of-type {\n",
       "        vertical-align: middle;\n",
       "    }\n",
       "\n",
       "    .dataframe tbody tr th {\n",
       "        vertical-align: top;\n",
       "    }\n",
       "\n",
       "    .dataframe thead th {\n",
       "        text-align: right;\n",
       "    }\n",
       "</style>\n",
       "<table border=\"1\" class=\"dataframe\">\n",
       "  <thead>\n",
       "    <tr style=\"text-align: right;\">\n",
       "      <th></th>\n",
       "      <th>Year</th>\n",
       "      <th>Inflation(%)</th>\n",
       "      <th>Economic Growth(%)</th>\n",
       "      <th>Lending Rates(%)</th>\n",
       "    </tr>\n",
       "  </thead>\n",
       "  <tbody>\n",
       "    <tr>\n",
       "      <th>0</th>\n",
       "      <td>2022.0</td>\n",
       "      <td>13.9</td>\n",
       "      <td>11.13</td>\n",
       "      <td>20.16</td>\n",
       "    </tr>\n",
       "    <tr>\n",
       "      <th>1</th>\n",
       "      <td>NaN</td>\n",
       "      <td>15.7</td>\n",
       "      <td>12.57</td>\n",
       "      <td>20.52</td>\n",
       "    </tr>\n",
       "    <tr>\n",
       "      <th>2</th>\n",
       "      <td>NaN</td>\n",
       "      <td>19.4</td>\n",
       "      <td>15.76</td>\n",
       "      <td>20.57</td>\n",
       "    </tr>\n",
       "    <tr>\n",
       "      <th>3</th>\n",
       "      <td>NaN</td>\n",
       "      <td>23.4</td>\n",
       "      <td>15.37</td>\n",
       "      <td>21.61</td>\n",
       "    </tr>\n",
       "    <tr>\n",
       "      <th>4</th>\n",
       "      <td>NaN</td>\n",
       "      <td>27.6</td>\n",
       "      <td>16.32</td>\n",
       "      <td>22.53</td>\n",
       "    </tr>\n",
       "  </tbody>\n",
       "</table>\n",
       "</div>"
      ],
      "text/plain": [
       "     Year  Inflation(%)  Economic Growth(%)  Lending Rates(%)\n",
       "0  2022.0          13.9               11.13             20.16\n",
       "1     NaN          15.7               12.57             20.52\n",
       "2     NaN          19.4               15.76             20.57\n",
       "3     NaN          23.4               15.37             21.61\n",
       "4     NaN          27.6               16.32             22.53"
      ]
     },
     "execution_count": 9,
     "metadata": {},
     "output_type": "execute_result"
    }
   ],
   "source": [
    "lending_rate_data.head()"
   ]
  },
  {
   "cell_type": "code",
   "execution_count": 10,
   "id": "045cfdd1",
   "metadata": {},
   "outputs": [
    {
     "data": {
      "text/html": [
       "<div>\n",
       "<style scoped>\n",
       "    .dataframe tbody tr th:only-of-type {\n",
       "        vertical-align: middle;\n",
       "    }\n",
       "\n",
       "    .dataframe tbody tr th {\n",
       "        vertical-align: top;\n",
       "    }\n",
       "\n",
       "    .dataframe thead th {\n",
       "        text-align: right;\n",
       "    }\n",
       "</style>\n",
       "<table border=\"1\" class=\"dataframe\">\n",
       "  <thead>\n",
       "    <tr style=\"text-align: right;\">\n",
       "      <th></th>\n",
       "      <th>Year</th>\n",
       "      <th>Inflation(%)</th>\n",
       "      <th>Economic Growth(%)</th>\n",
       "      <th>Lending Rates(%)</th>\n",
       "    </tr>\n",
       "  </thead>\n",
       "  <tbody>\n",
       "    <tr>\n",
       "      <th>55</th>\n",
       "      <td>NaN</td>\n",
       "      <td>9.86</td>\n",
       "      <td>2.64</td>\n",
       "      <td>23.70</td>\n",
       "    </tr>\n",
       "    <tr>\n",
       "      <th>56</th>\n",
       "      <td>NaN</td>\n",
       "      <td>9.79</td>\n",
       "      <td>6.56</td>\n",
       "      <td>24.04</td>\n",
       "    </tr>\n",
       "    <tr>\n",
       "      <th>57</th>\n",
       "      <td>NaN</td>\n",
       "      <td>9.52</td>\n",
       "      <td>5.73</td>\n",
       "      <td>23.90</td>\n",
       "    </tr>\n",
       "    <tr>\n",
       "      <th>58</th>\n",
       "      <td>NaN</td>\n",
       "      <td>9.34</td>\n",
       "      <td>4.51</td>\n",
       "      <td>23.76</td>\n",
       "    </tr>\n",
       "    <tr>\n",
       "      <th>59</th>\n",
       "      <td>NaN</td>\n",
       "      <td>9.43</td>\n",
       "      <td>2.75</td>\n",
       "      <td>23.96</td>\n",
       "    </tr>\n",
       "  </tbody>\n",
       "</table>\n",
       "</div>"
      ],
      "text/plain": [
       "    Year  Inflation(%)  Economic Growth(%)  Lending Rates(%)\n",
       "55   NaN          9.86                2.64             23.70\n",
       "56   NaN          9.79                6.56             24.04\n",
       "57   NaN          9.52                5.73             23.90\n",
       "58   NaN          9.34                4.51             23.76\n",
       "59   NaN          9.43                2.75             23.96"
      ]
     },
     "execution_count": 10,
     "metadata": {},
     "output_type": "execute_result"
    }
   ],
   "source": [
    "lending_rate_data.tail()"
   ]
  },
  {
   "cell_type": "code",
   "execution_count": 11,
   "id": "cf8c24c7",
   "metadata": {},
   "outputs": [
    {
     "name": "stdout",
     "output_type": "stream",
     "text": [
      "<class 'pandas.core.frame.DataFrame'>\n",
      "RangeIndex: 60 entries, 0 to 59\n",
      "Data columns (total 4 columns):\n",
      " #   Column              Non-Null Count  Dtype  \n",
      "---  ------              --------------  -----  \n",
      " 0   Year                5 non-null      float64\n",
      " 1   Inflation(%)        60 non-null     float64\n",
      " 2   Economic Growth(%)  60 non-null     float64\n",
      " 3   Lending Rates(%)    60 non-null     float64\n",
      "dtypes: float64(4)\n",
      "memory usage: 2.0 KB\n"
     ]
    }
   ],
   "source": [
    "lending_rate_data.info()"
   ]
  },
  {
   "cell_type": "code",
   "execution_count": 12,
   "id": "7d8650ff",
   "metadata": {},
   "outputs": [],
   "source": [
    "def check_data(df):\n",
    "    print(80 * \"*\")\n",
    "    print('DIMENSION: ({}, {})'.format(df.shape[0], df.shape[1]))\n",
    "    print(80 * \"*\")\n",
    "    print(\"COLUMNS:\\n\")\n",
    "    print(df.columns.values)\n",
    "    print(80 * \"*\")\n",
    "    print(\"DATA INFO:\\n\")\n",
    "    print(df.dtypes)\n",
    "    print(80 * \"*\")\n",
    "    print(\"MISSING VALUES:\\n\")\n",
    "    print(df.isnull().sum())\n",
    "    print(80 * \"*\")\n",
    "    print(\"NUMBER OF UNIQUE VALUES:\\n\")\n",
    "    print(df.nunique())"
   ]
  },
  {
   "cell_type": "code",
   "execution_count": 14,
   "id": "0e18d64a",
   "metadata": {},
   "outputs": [
    {
     "name": "stdout",
     "output_type": "stream",
     "text": [
      "********************************************************************************\n",
      "DIMENSION: (60, 4)\n",
      "********************************************************************************\n",
      "COLUMNS:\n",
      "\n",
      "['Year' 'Inflation(%)' 'Economic Growth(%)' 'Lending Rates(%)']\n",
      "********************************************************************************\n",
      "DATA INFO:\n",
      "\n",
      "Year                  float64\n",
      "Inflation(%)          float64\n",
      "Economic Growth(%)    float64\n",
      "Lending Rates(%)      float64\n",
      "dtype: object\n",
      "********************************************************************************\n",
      "MISSING VALUES:\n",
      "\n",
      "Year                  55\n",
      "Inflation(%)           0\n",
      "Economic Growth(%)     0\n",
      "Lending Rates(%)       0\n",
      "dtype: int64\n",
      "********************************************************************************\n",
      "NUMBER OF UNIQUE VALUES:\n",
      "\n",
      "Year                   5\n",
      "Inflation(%)          53\n",
      "Economic Growth(%)    60\n",
      "Lending Rates(%)      59\n",
      "dtype: int64\n"
     ]
    }
   ],
   "source": [
    "check_data(lending_rate_data)"
   ]
  },
  {
   "cell_type": "markdown",
   "id": "5e52cac6",
   "metadata": {},
   "source": [
    "### Plotting Scattered Graph"
   ]
  },
  {
   "cell_type": "code",
   "execution_count": 13,
   "id": "da83c39f",
   "metadata": {},
   "outputs": [],
   "source": [
    "x= lending_rate_data[\"Inflation(%)\"]\n",
    "y = lending_rate_data[\"Lending Rates(%)\"]"
   ]
  },
  {
   "cell_type": "code",
   "execution_count": 14,
   "id": "e4149e82",
   "metadata": {},
   "outputs": [
    {
     "data": {
      "text/plain": [
       "<matplotlib.collections.PathCollection at 0x27fcf78bac0>"
      ]
     },
     "execution_count": 14,
     "metadata": {},
     "output_type": "execute_result"
    },
    {
     "data": {
      "image/png": "[encoded data removed]",
      "text/plain": [
       "<Figure size 640x480 with 1 Axes>"
      ]
     },
     "metadata": {},
     "output_type": "display_data"
    }
   ],
   "source": [
    "plt.scatter(x, y)"
   ]
  },
  {
   "cell_type": "code",
   "execution_count": 15,
   "id": "61954cbc",
   "metadata": {},
   "outputs": [],
   "source": [
    "# The point been on the striaght lines means there is some kind of colleration between the two data column"
   ]
  },
  {
   "cell_type": "code",
   "execution_count": 16,
   "id": "787777ad",
   "metadata": {},
   "outputs": [],
   "source": [
    "x= lending_rate_data[\"Economic Growth(%)\"]\n",
    "y = lending_rate_data[\"Lending Rates(%)\"]"
   ]
  },
  {
   "cell_type": "code",
   "execution_count": 17,
   "id": "25be1511",
   "metadata": {},
   "outputs": [
    {
     "data": {
      "text/plain": [
       "<matplotlib.collections.PathCollection at 0x27fcf8c8610>"
      ]
     },
     "execution_count": 17,
     "metadata": {},
     "output_type": "execute_result"
    },
    {
     "data": {
      "image/png": "[encoded data removed]",
      "text/plain": [
       "<Figure size 640x480 with 1 Axes>"
      ]
     },
     "metadata": {},
     "output_type": "display_data"
    }
   ],
   "source": [
    "plt.scatter(x, y)"
   ]
  },
  {
   "cell_type": "markdown",
   "id": "f4304fd4",
   "metadata": {},
   "source": [
    "### preparing the train model"
   ]
  },
  {
   "cell_type": "code",
   "execution_count": 18,
   "id": "46f8ce0e",
   "metadata": {},
   "outputs": [],
   "source": [
    "x_var = lending_rate_data[[\"Inflation(%)\",\"Economic Growth(%)\"]]\n",
    "y_rar = lending_rate_data[\"Lending Rates(%)\"]"
   ]
  },
  {
   "cell_type": "code",
   "execution_count": 19,
   "id": "ed67c640",
   "metadata": {},
   "outputs": [],
   "source": [
    "x_train, x_test, y_train, y_test = train_test_split(x_var, y_rar, test_size = 0.3)"
   ]
  },
  {
   "cell_type": "markdown",
   "id": "ac4a2e84",
   "metadata": {},
   "source": [
    "### Trainning the model"
   ]
  },
  {
   "cell_type": "code",
   "execution_count": 71,
   "id": "72883a24",
   "metadata": {},
   "outputs": [
    {
     "data": {
      "text/html": [
       "<style>#sk-container-id-4 {color: black;background-color: white;}#sk-container-id-4 pre{padding: 0;}#sk-container-id-4 div.sk-toggleable {background-color: white;}#sk-container-id-4 label.sk-toggleable__label {cursor: pointer;display: block;width: 100%;margin-bottom: 0;padding: 0.3em;box-sizing: border-box;text-align: center;}#sk-container-id-4 label.sk-toggleable__label-arrow:before {content: \"▸\";float: left;margin-right: 0.25em;color: #696969;}#sk-container-id-4 label.sk-toggleable__label-arrow:hover:before {color: black;}#sk-container-id-4 div.sk-estimator:hover label.sk-toggleable__label-arrow:before {color: black;}#sk-container-id-4 div.sk-toggleable__content {max-height: 0;max-width: 0;overflow: hidden;text-align: left;background-color: #f0f8ff;}#sk-container-id-4 div.sk-toggleable__content pre {margin: 0.2em;color: black;border-radius: 0.25em;background-color: #f0f8ff;}#sk-container-id-4 input.sk-toggleable__control:checked~div.sk-toggleable__content {max-height: 200px;max-width: 100%;overflow: auto;}#sk-container-id-4 input.sk-toggleable__control:checked~label.sk-toggleable__label-arrow:before {content: \"▾\";}#sk-container-id-4 div.sk-estimator input.sk-toggleable__control:checked~label.sk-toggleable__label {background-color: #d4ebff;}#sk-container-id-4 div.sk-label input.sk-toggleable__control:checked~label.sk-toggleable__label {background-color: #d4ebff;}#sk-container-id-4 input.sk-hidden--visually {border: 0;clip: rect(1px 1px 1px 1px);clip: rect(1px, 1px, 1px, 1px);height: 1px;margin: -1px;overflow: hidden;padding: 0;position: absolute;width: 1px;}#sk-container-id-4 div.sk-estimator {font-family: monospace;background-color: #f0f8ff;border: 1px dotted black;border-radius: 0.25em;box-sizing: border-box;margin-bottom: 0.5em;}#sk-container-id-4 div.sk-estimator:hover {background-color: #d4ebff;}#sk-container-id-4 div.sk-parallel-item::after {content: \"\";width: 100%;border-bottom: 1px solid gray;flex-grow: 1;}#sk-container-id-4 div.sk-label:hover label.sk-toggleable__label {background-color: #d4ebff;}#sk-container-id-4 div.sk-serial::before {content: \"\";position: absolute;border-left: 1px solid gray;box-sizing: border-box;top: 0;bottom: 0;left: 50%;z-index: 0;}#sk-container-id-4 div.sk-serial {display: flex;flex-direction: column;align-items: center;background-color: white;padding-right: 0.2em;padding-left: 0.2em;position: relative;}#sk-container-id-4 div.sk-item {position: relative;z-index: 1;}#sk-container-id-4 div.sk-parallel {display: flex;align-items: stretch;justify-content: center;background-color: white;position: relative;}#sk-container-id-4 div.sk-item::before, #sk-container-id-4 div.sk-parallel-item::before {content: \"\";position: absolute;border-left: 1px solid gray;box-sizing: border-box;top: 0;bottom: 0;left: 50%;z-index: -1;}#sk-container-id-4 div.sk-parallel-item {display: flex;flex-direction: column;z-index: 1;position: relative;background-color: white;}#sk-container-id-4 div.sk-parallel-item:first-child::after {align-self: flex-end;width: 50%;}#sk-container-id-4 div.sk-parallel-item:last-child::after {align-self: flex-start;width: 50%;}#sk-container-id-4 div.sk-parallel-item:only-child::after {width: 0;}#sk-container-id-4 div.sk-dashed-wrapped {border: 1px dashed gray;margin: 0 0.4em 0.5em 0.4em;box-sizing: border-box;padding-bottom: 0.4em;background-color: white;}#sk-container-id-4 div.sk-label label {font-family: monospace;font-weight: bold;display: inline-block;line-height: 1.2em;}#sk-container-id-4 div.sk-label-container {text-align: center;}#sk-container-id-4 div.sk-container {/* jupyter's `normalize.less` sets `[hidden] { display: none; }` but bootstrap.min.css set `[hidden] { display: none !important; }` so we also need the `!important` here to be able to override the default hidden behavior on the sphinx rendered scikit-learn.org. See: https://github.com/scikit-learn/scikit-learn/issues/21755 */display: inline-block !important;position: relative;}#sk-container-id-4 div.sk-text-repr-fallback {display: none;}</style><div id=\"sk-container-id-4\" class=\"sk-top-container\"><div class=\"sk-text-repr-fallback\"><pre>LinearRegression()</pre><b>In a Jupyter environment, please rerun this cell to show the HTML representation or trust the notebook. <br />On GitHub, the HTML representation is unable to render, please try loading this page with nbviewer.org.</b></div><div class=\"sk-container\" hidden><div class=\"sk-item\"><div class=\"sk-estimator sk-toggleable\"><input class=\"sk-toggleable__control sk-hidden--visually\" id=\"sk-estimator-id-4\" type=\"checkbox\" checked><label for=\"sk-estimator-id-4\" class=\"sk-toggleable__label sk-toggleable__label-arrow\">LinearRegression</label><div class=\"sk-toggleable__content\"><pre>LinearRegression()</pre></div></div></div></div></div>"
      ],
      "text/plain": [
       "LinearRegression()"
      ]
     },
     "execution_count": 71,
     "metadata": {},
     "output_type": "execute_result"
    }
   ],
   "source": [
    "rate_model = LinearRegression()\n",
    "rate_model.fit(x_train, y_train)"
   ]
  },
  {
   "cell_type": "code",
   "execution_count": 64,
   "id": "75ca9bbd",
   "metadata": {},
   "outputs": [
    {
     "name": "stdout",
     "output_type": "stream",
     "text": [
      "[ 0.24819026 -0.10209489]\n"
     ]
    }
   ],
   "source": [
    "print(rate_model.coef_)"
   ]
  },
  {
   "cell_type": "code",
   "execution_count": 22,
   "id": "adaa19ea",
   "metadata": {},
   "outputs": [
    {
     "name": "stdout",
     "output_type": "stream",
     "text": [
      "20.920508572848444\n"
     ]
    }
   ],
   "source": [
    "print(rate_model.intercept_)"
   ]
  },
  {
   "cell_type": "code",
   "execution_count": 23,
   "id": "03b70bc2",
   "metadata": {},
   "outputs": [
    {
     "data": {
      "text/html": [
       "<div>\n",
       "<style scoped>\n",
       "    .dataframe tbody tr th:only-of-type {\n",
       "        vertical-align: middle;\n",
       "    }\n",
       "\n",
       "    .dataframe tbody tr th {\n",
       "        vertical-align: top;\n",
       "    }\n",
       "\n",
       "    .dataframe thead th {\n",
       "        text-align: right;\n",
       "    }\n",
       "</style>\n",
       "<table border=\"1\" class=\"dataframe\">\n",
       "  <thead>\n",
       "    <tr style=\"text-align: right;\">\n",
       "      <th></th>\n",
       "      <th>Coeff</th>\n",
       "    </tr>\n",
       "  </thead>\n",
       "  <tbody>\n",
       "    <tr>\n",
       "      <th>Inflation(%)</th>\n",
       "      <td>0.248190</td>\n",
       "    </tr>\n",
       "    <tr>\n",
       "      <th>Economic Growth(%)</th>\n",
       "      <td>-0.102095</td>\n",
       "    </tr>\n",
       "  </tbody>\n",
       "</table>\n",
       "</div>"
      ],
      "text/plain": [
       "                       Coeff\n",
       "Inflation(%)        0.248190\n",
       "Economic Growth(%) -0.102095"
      ]
     },
     "execution_count": 23,
     "metadata": {},
     "output_type": "execute_result"
    }
   ],
   "source": [
    "pd.DataFrame(rate_model.coef_, x_var.columns, columns = ['Coeff'])"
   ]
  },
  {
   "cell_type": "code",
   "execution_count": 24,
   "id": "82d15838",
   "metadata": {},
   "outputs": [],
   "source": [
    "predictions = rate_model.predict(x_test)"
   ]
  },
  {
   "cell_type": "code",
   "execution_count": 25,
   "id": "1bbcf882",
   "metadata": {},
   "outputs": [
    {
     "data": {
      "text/plain": [
       "array([20.77569864, 22.70262456, 22.77815759, 34.34760139, 21.54537722,\n",
       "       22.57514343, 20.95305497, 22.68054867, 21.75580962, 22.65606654,\n",
       "       21.49648859, 24.12638401, 22.77486787, 22.55102565, 27.03108656,\n",
       "       22.47442356, 19.68948117, 21.99578755])"
      ]
     },
     "execution_count": 25,
     "metadata": {},
     "output_type": "execute_result"
    }
   ],
   "source": [
    "predictions"
   ]
  },
  {
   "cell_type": "code",
   "execution_count": 26,
   "id": "15255cda",
   "metadata": {},
   "outputs": [
    {
     "data": {
      "text/plain": [
       "17    20.61\n",
       "40    23.08\n",
       "58    23.76\n",
       "11    35.58\n",
       "19    20.51\n",
       "53    24.14\n",
       "18    20.67\n",
       "56    24.04\n",
       "24    23.06\n",
       "38    23.26\n",
       "25    23.37\n",
       "2     20.57\n",
       "36    23.73\n",
       "48    25.64\n",
       "6     26.46\n",
       "54    23.94\n",
       "16    20.85\n",
       "32    21.30\n",
       "Name: Lending Rates(%), dtype: float64"
      ]
     },
     "execution_count": 26,
     "metadata": {},
     "output_type": "execute_result"
    }
   ],
   "source": [
    "y_test"
   ]
  },
  {
   "cell_type": "code",
   "execution_count": 27,
   "id": "18bae77b",
   "metadata": {},
   "outputs": [
    {
     "data": {
      "text/html": [
       "<div>\n",
       "<style scoped>\n",
       "    .dataframe tbody tr th:only-of-type {\n",
       "        vertical-align: middle;\n",
       "    }\n",
       "\n",
       "    .dataframe tbody tr th {\n",
       "        vertical-align: top;\n",
       "    }\n",
       "\n",
       "    .dataframe thead th {\n",
       "        text-align: right;\n",
       "    }\n",
       "</style>\n",
       "<table border=\"1\" class=\"dataframe\">\n",
       "  <thead>\n",
       "    <tr style=\"text-align: right;\">\n",
       "      <th></th>\n",
       "      <th>0</th>\n",
       "    </tr>\n",
       "    <tr>\n",
       "      <th>Lending Rates(%)</th>\n",
       "      <th></th>\n",
       "    </tr>\n",
       "  </thead>\n",
       "  <tbody>\n",
       "    <tr>\n",
       "      <th>20.61</th>\n",
       "      <td>20.775699</td>\n",
       "    </tr>\n",
       "    <tr>\n",
       "      <th>23.08</th>\n",
       "      <td>22.702625</td>\n",
       "    </tr>\n",
       "    <tr>\n",
       "      <th>23.76</th>\n",
       "      <td>22.778158</td>\n",
       "    </tr>\n",
       "    <tr>\n",
       "      <th>35.58</th>\n",
       "      <td>34.347601</td>\n",
       "    </tr>\n",
       "    <tr>\n",
       "      <th>20.51</th>\n",
       "      <td>21.545377</td>\n",
       "    </tr>\n",
       "    <tr>\n",
       "      <th>24.14</th>\n",
       "      <td>22.575143</td>\n",
       "    </tr>\n",
       "    <tr>\n",
       "      <th>20.67</th>\n",
       "      <td>20.953055</td>\n",
       "    </tr>\n",
       "    <tr>\n",
       "      <th>24.04</th>\n",
       "      <td>22.680549</td>\n",
       "    </tr>\n",
       "    <tr>\n",
       "      <th>23.06</th>\n",
       "      <td>21.755810</td>\n",
       "    </tr>\n",
       "    <tr>\n",
       "      <th>23.26</th>\n",
       "      <td>22.656067</td>\n",
       "    </tr>\n",
       "    <tr>\n",
       "      <th>23.37</th>\n",
       "      <td>21.496489</td>\n",
       "    </tr>\n",
       "    <tr>\n",
       "      <th>20.57</th>\n",
       "      <td>24.126384</td>\n",
       "    </tr>\n",
       "    <tr>\n",
       "      <th>23.73</th>\n",
       "      <td>22.774868</td>\n",
       "    </tr>\n",
       "    <tr>\n",
       "      <th>25.64</th>\n",
       "      <td>22.551026</td>\n",
       "    </tr>\n",
       "    <tr>\n",
       "      <th>26.46</th>\n",
       "      <td>27.031087</td>\n",
       "    </tr>\n",
       "    <tr>\n",
       "      <th>23.94</th>\n",
       "      <td>22.474424</td>\n",
       "    </tr>\n",
       "    <tr>\n",
       "      <th>20.85</th>\n",
       "      <td>19.689481</td>\n",
       "    </tr>\n",
       "    <tr>\n",
       "      <th>21.30</th>\n",
       "      <td>21.995788</td>\n",
       "    </tr>\n",
       "  </tbody>\n",
       "</table>\n",
       "</div>"
      ],
      "text/plain": [
       "                          0\n",
       "Lending Rates(%)           \n",
       "20.61             20.775699\n",
       "23.08             22.702625\n",
       "23.76             22.778158\n",
       "35.58             34.347601\n",
       "20.51             21.545377\n",
       "24.14             22.575143\n",
       "20.67             20.953055\n",
       "24.04             22.680549\n",
       "23.06             21.755810\n",
       "23.26             22.656067\n",
       "23.37             21.496489\n",
       "20.57             24.126384\n",
       "23.73             22.774868\n",
       "25.64             22.551026\n",
       "26.46             27.031087\n",
       "23.94             22.474424\n",
       "20.85             19.689481\n",
       "21.30             21.995788"
      ]
     },
     "execution_count": 27,
     "metadata": {},
     "output_type": "execute_result"
    }
   ],
   "source": [
    "pd.DataFrame(predictions, y_test)"
   ]
  },
  {
   "cell_type": "markdown",
   "id": "37aa8f33",
   "metadata": {},
   "source": [
    "## Model Evaluation (Metrics for Regression)"
   ]
  },
  {
   "cell_type": "markdown",
   "id": "37d9c399",
   "metadata": {},
   "source": [
    "### Mean Squared Error"
   ]
  },
  {
   "cell_type": "markdown",
   "id": "b9667558",
   "metadata": {},
   "source": [
    "Mean Squared Error, or MSE for short, is a popular error metric for regression problems.\n",
    "\n",
    "It is also an important loss function for algorithms fit or optimized using the least squares framing of a regression problem. Here “least squares” refers to minimizing the mean squared error between predictions and expected values.\n",
    "\n",
    "The MSE is calculated as the mean or average of the squared differences between predicted and expected target values in a dataset.\n",
    "\n",
    "MSE = 1 / N * sum for i to N (y_i – yhat_i)^2\n",
    "Where y_i is the i’th expected value in the dataset and yhat_i is the i’th predicted value. The difference between these two values is squared, which has the effect of removing the sign, resulting in a positive error value."
   ]
  },
  {
   "cell_type": "code",
   "execution_count": 28,
   "id": "bf783c4c",
   "metadata": {},
   "outputs": [
    {
     "name": "stdout",
     "output_type": "stream",
     "text": [
      ">20.6, 20.8 = 0.027\n",
      ">23.1, 22.7 = 0.142\n",
      ">23.8, 22.8 = 0.964\n",
      ">35.6, 34.3 = 1.519\n",
      ">20.5, 21.5 = 1.072\n",
      ">24.1, 22.6 = 2.449\n",
      ">20.7, 21.0 = 0.080\n",
      ">24.0, 22.7 = 1.848\n",
      ">23.1, 21.8 = 1.701\n",
      ">23.3, 22.7 = 0.365\n",
      ">23.4, 21.5 = 3.510\n",
      ">20.6, 24.1 = 12.648\n",
      ">23.7, 22.8 = 0.912\n",
      ">25.6, 22.6 = 9.542\n",
      ">26.5, 27.0 = 0.326\n",
      ">23.9, 22.5 = 2.148\n",
      ">20.9, 19.7 = 1.347\n",
      ">21.3, 22.0 = 0.484\n"
     ]
    },
    {
     "data": {
      "image/png": "[encoded data removed]",
      "text/plain": [
       "<Figure size 640x480 with 1 Axes>"
      ]
     },
     "metadata": {},
     "output_type": "display_data"
    }
   ],
   "source": [
    "from sklearn.metrics import mean_squared_error\n",
    "# real value\n",
    "expected = y_test.tolist()\n",
    "# predicted value\n",
    "predicted = predictions.tolist()\n",
    "# calculate errors\n",
    "errors = list()\n",
    "for i in range(len(expected)):\n",
    " # calculate error\n",
    " err = (expected[i] - predicted[i])**2\n",
    " # store error\n",
    " errors.append(err)\n",
    " # report error\n",
    " print('>%.1f, %.1f = %.3f' % (expected[i], predicted[i], err))\n",
    "# plot errors\n",
    "plt.plot(errors)\n",
    "plt.xticks(ticks=[i for i in range(len(errors))], labels=predicted)\n",
    "plt.xlabel('Predicted Value')\n",
    "plt.ylabel('Mean Squared Error')\n",
    "plt.show()"
   ]
  },
  {
   "cell_type": "code",
   "execution_count": 29,
   "id": "c34bc2d8",
   "metadata": {},
   "outputs": [
    {
     "data": {
      "text/plain": [
       "2.282459888963503"
      ]
     },
     "execution_count": 29,
     "metadata": {},
     "output_type": "execute_result"
    }
   ],
   "source": [
    "expected = y_test.tolist()\n",
    "predicted = predictions.tolist()\n",
    "errors = mean_squared_error(expected, predicted)\n",
    "errors"
   ]
  },
  {
   "cell_type": "markdown",
   "id": "da5bda83",
   "metadata": {},
   "source": [
    "A perfect mean squared error value is 0.0, which means that all predictions matched the expected values exactly.\n",
    "\n",
    "This is almost never the case, and if it happens, it suggests your predictive modeling problem is trivial.\n",
    "\n",
    "A good MSE is relative to your specific dataset.\n",
    "\n",
    "It is a good idea to first establish a baseline MSE for your dataset using a naive predictive model, such as predicting the mean target value from the training dataset. A model that achieves an MSE better than the MSE for the naive model has skill."
   ]
  },
  {
   "cell_type": "markdown",
   "id": "ed732207",
   "metadata": {},
   "source": [
    "### Root Mean Squared Error"
   ]
  },
  {
   "cell_type": "markdown",
   "id": "63a2945d",
   "metadata": {},
   "source": [
    "The Root Mean Squared Error, or RMSE, is an extension of the mean squared error.\n",
    "\n",
    "Importantly, the square root of the error is calculated, which means that the units of the RMSE are the same as the original units of the target value that is being predicted.\n",
    "\n",
    "For example, if your target variable has the units “dollars,” then the RMSE error score will also have the unit “dollars” and not “squared dollars” like the MSE.\n",
    "\n",
    "As such, it may be common to use MSE loss to train a regression predictive model, and to use RMSE to evaluate and report its performance.\n",
    "\n",
    "The RMSE can be calculated as follows:\n",
    "\n",
    "RMSE = sqrt(1 / N * sum for i to N (y_i – yhat_i)^2)\n",
    "Where y_i is the i’th expected value in the dataset, yhat_i is the i’th predicted value, and sqrt() is the square root function.\n",
    "\n",
    "We can restate the RMSE in terms of the MSE as:\n",
    "\n",
    "RMSE = sqrt(MSE)"
   ]
  },
  {
   "cell_type": "code",
   "execution_count": 30,
   "id": "aaf6e13f",
   "metadata": {},
   "outputs": [
    {
     "name": "stdout",
     "output_type": "stream",
     "text": [
      "1.5107812180999283\n"
     ]
    }
   ],
   "source": [
    "# example of calculate the root mean squared error\n",
    "from sklearn.metrics import mean_squared_error\n",
    "# real value\n",
    "expected = y_test.tolist()\n",
    "# predicted value\n",
    "predicted = predictions.tolist()\n",
    "# calculate errors\n",
    "errors = mean_squared_error(expected, predicted, squared=False)\n",
    "# report error\n",
    "print(errors)"
   ]
  },
  {
   "cell_type": "markdown",
   "id": "dbbcfa3f",
   "metadata": {},
   "source": [
    "### Mean Absolute Error"
   ]
  },
  {
   "cell_type": "markdown",
   "id": "0f1d7972",
   "metadata": {},
   "source": [
    "Mean Absolute Error, or MAE, is a popular metric because, like RMSE, the units of the error score match the units of the target value that is being predicted.\n",
    "\n",
    "Unlike the RMSE, the changes in MAE are linear and therefore intuitive.\n",
    "\n",
    "That is, MSE and RMSE punish larger errors more than smaller errors, inflating or magnifying the mean error score. This is due to the square of the error value. The MAE does not give more or less weight to different types of errors and instead the scores increase linearly with increases in error.\n",
    "\n",
    "As its name suggests, the MAE score is calculated as the average of the absolute error values. Absolute or abs() is a mathematical function that simply makes a number positive. Therefore, the difference between an expected and predicted value may be positive or negative and is forced to be positive when calculating the MAE.\n",
    "\n",
    "The MAE can be calculated as follows:\n",
    "\n",
    "MAE = 1 / N * sum for i to N abs(y_i – yhat_i)\n",
    "Where y_i is the i’th expected value in the dataset, yhat_i is the i’th predicted value and abs() is the absolute function"
   ]
  },
  {
   "cell_type": "code",
   "execution_count": 48,
   "id": "05c6a9ed",
   "metadata": {},
   "outputs": [
    {
     "name": "stdout",
     "output_type": "stream",
     "text": [
      ">23.1, 22.0 = 1.093\n",
      ">20.6, 24.0 = 3.458\n",
      ">23.1, 23.1 = 0.015\n",
      ">23.9, 23.0 = 0.851\n",
      ">23.1, 23.2 = 0.119\n",
      ">29.8, 27.9 = 1.949\n",
      ">20.3, 22.8 = 2.495\n",
      ">23.6, 21.8 = 1.862\n",
      ">20.2, 23.4 = 3.195\n",
      ">23.9, 22.7 = 1.195\n",
      ">21.3, 22.0 = 0.746\n",
      ">24.0, 22.4 = 1.608\n",
      ">25.4, 22.8 = 2.569\n",
      ">20.6, 20.7 = 0.069\n",
      ">33.9, 30.7 = 3.155\n",
      ">20.9, 18.8 = 2.115\n",
      ">24.3, 26.2 = 1.932\n",
      ">20.9, 21.9 = 0.935\n"
     ]
    },
    {
     "data": {
      "image/png": "[encoded data removed]",
      "text/plain": [
       "<Figure size 640x480 with 1 Axes>"
      ]
     },
     "metadata": {},
     "output_type": "display_data"
    }
   ],
   "source": [
    "from sklearn.metrics import mean_squared_error\n",
    "# real value\n",
    "expected = y_test.tolist()\n",
    "# predicted value\n",
    "predicted = predictions.tolist()\n",
    "# calculate errors\n",
    "errors = list()\n",
    "for i in range(len(expected)):\n",
    " # calculate error\n",
    " err = abs((expected[i] - predicted[i]))\n",
    " # store error\n",
    " errors.append(err)\n",
    " # report error\n",
    " print('>%.1f, %.1f = %.3f' % (expected[i], predicted[i], err))\n",
    "# plot errors\n",
    "plt.plot(errors)\n",
    "plt.xticks(ticks=[i for i in range(len(errors))], labels=predicted)\n",
    "plt.xlabel('Predicted Value')\n",
    "plt.ylabel('Mean Absolute Error')\n",
    "plt.show()"
   ]
  },
  {
   "cell_type": "code",
   "execution_count": 31,
   "id": "a8a6f2a0",
   "metadata": {},
   "outputs": [
    {
     "name": "stdout",
     "output_type": "stream",
     "text": [
      "1.2375083512738796\n"
     ]
    }
   ],
   "source": [
    "from sklearn.metrics import mean_absolute_error\n",
    "# real value\n",
    "expected = y_test.tolist()\n",
    "# predicted value\n",
    "predicted = predictions.tolist()\n",
    "# calculate errors\n",
    "errors = mean_absolute_error(expected, predicted)\n",
    "# report error\n",
    "print(errors)"
   ]
  },
  {
   "cell_type": "code",
   "execution_count": 32,
   "id": "55a85643",
   "metadata": {},
   "outputs": [
    {
     "data": {
      "text/plain": [
       "<matplotlib.collections.PathCollection at 0x27fd1a69b70>"
      ]
     },
     "execution_count": 32,
     "metadata": {},
     "output_type": "execute_result"
    },
    {
     "data": {
      "image/png": "[encoded data removed]",
      "text/plain": [
       "<Figure size 640x480 with 1 Axes>"
      ]
     },
     "metadata": {},
     "output_type": "display_data"
    }
   ],
   "source": [
    "plt.scatter(y_test, predictions)"
   ]
  },
  {
   "cell_type": "code",
   "execution_count": null,
   "id": "c4348bed",
   "metadata": {},
   "outputs": [],
   "source": []
  },
  {
   "cell_type": "markdown",
   "id": "ccdf9866",
   "metadata": {},
   "source": [
    "### Using Random Forest"
   ]
  },
  {
   "cell_type": "code",
   "execution_count": 85,
   "id": "1dac18a1",
   "metadata": {},
   "outputs": [],
   "source": [
    "from sklearn.ensemble import RandomForestRegressor"
   ]
  },
  {
   "cell_type": "code",
   "execution_count": 86,
   "id": "036621ab",
   "metadata": {},
   "outputs": [],
   "source": [
    "rate_model_rf = RandomForestRegressor(n_estimators=100, random_state=42)"
   ]
  },
  {
   "cell_type": "code",
   "execution_count": 87,
   "id": "68e8f459",
   "metadata": {},
   "outputs": [
    {
     "data": {
      "text/html": [
       "<style>#sk-container-id-6 {color: black;background-color: white;}#sk-container-id-6 pre{padding: 0;}#sk-container-id-6 div.sk-toggleable {background-color: white;}#sk-container-id-6 label.sk-toggleable__label {cursor: pointer;display: block;width: 100%;margin-bottom: 0;padding: 0.3em;box-sizing: border-box;text-align: center;}#sk-container-id-6 label.sk-toggleable__label-arrow:before {content: \"▸\";float: left;margin-right: 0.25em;color: #696969;}#sk-container-id-6 label.sk-toggleable__label-arrow:hover:before {color: black;}#sk-container-id-6 div.sk-estimator:hover label.sk-toggleable__label-arrow:before {color: black;}#sk-container-id-6 div.sk-toggleable__content {max-height: 0;max-width: 0;overflow: hidden;text-align: left;background-color: #f0f8ff;}#sk-container-id-6 div.sk-toggleable__content pre {margin: 0.2em;color: black;border-radius: 0.25em;background-color: #f0f8ff;}#sk-container-id-6 input.sk-toggleable__control:checked~div.sk-toggleable__content {max-height: 200px;max-width: 100%;overflow: auto;}#sk-container-id-6 input.sk-toggleable__control:checked~label.sk-toggleable__label-arrow:before {content: \"▾\";}#sk-container-id-6 div.sk-estimator input.sk-toggleable__control:checked~label.sk-toggleable__label {background-color: #d4ebff;}#sk-container-id-6 div.sk-label input.sk-toggleable__control:checked~label.sk-toggleable__label {background-color: #d4ebff;}#sk-container-id-6 input.sk-hidden--visually {border: 0;clip: rect(1px 1px 1px 1px);clip: rect(1px, 1px, 1px, 1px);height: 1px;margin: -1px;overflow: hidden;padding: 0;position: absolute;width: 1px;}#sk-container-id-6 div.sk-estimator {font-family: monospace;background-color: #f0f8ff;border: 1px dotted black;border-radius: 0.25em;box-sizing: border-box;margin-bottom: 0.5em;}#sk-container-id-6 div.sk-estimator:hover {background-color: #d4ebff;}#sk-container-id-6 div.sk-parallel-item::after {content: \"\";width: 100%;border-bottom: 1px solid gray;flex-grow: 1;}#sk-container-id-6 div.sk-label:hover label.sk-toggleable__label {background-color: #d4ebff;}#sk-container-id-6 div.sk-serial::before {content: \"\";position: absolute;border-left: 1px solid gray;box-sizing: border-box;top: 0;bottom: 0;left: 50%;z-index: 0;}#sk-container-id-6 div.sk-serial {display: flex;flex-direction: column;align-items: center;background-color: white;padding-right: 0.2em;padding-left: 0.2em;position: relative;}#sk-container-id-6 div.sk-item {position: relative;z-index: 1;}#sk-container-id-6 div.sk-parallel {display: flex;align-items: stretch;justify-content: center;background-color: white;position: relative;}#sk-container-id-6 div.sk-item::before, #sk-container-id-6 div.sk-parallel-item::before {content: \"\";position: absolute;border-left: 1px solid gray;box-sizing: border-box;top: 0;bottom: 0;left: 50%;z-index: -1;}#sk-container-id-6 div.sk-parallel-item {display: flex;flex-direction: column;z-index: 1;position: relative;background-color: white;}#sk-container-id-6 div.sk-parallel-item:first-child::after {align-self: flex-end;width: 50%;}#sk-container-id-6 div.sk-parallel-item:last-child::after {align-self: flex-start;width: 50%;}#sk-container-id-6 div.sk-parallel-item:only-child::after {width: 0;}#sk-container-id-6 div.sk-dashed-wrapped {border: 1px dashed gray;margin: 0 0.4em 0.5em 0.4em;box-sizing: border-box;padding-bottom: 0.4em;background-color: white;}#sk-container-id-6 div.sk-label label {font-family: monospace;font-weight: bold;display: inline-block;line-height: 1.2em;}#sk-container-id-6 div.sk-label-container {text-align: center;}#sk-container-id-6 div.sk-container {/* jupyter's `normalize.less` sets `[hidden] { display: none; }` but bootstrap.min.css set `[hidden] { display: none !important; }` so we also need the `!important` here to be able to override the default hidden behavior on the sphinx rendered scikit-learn.org. See: https://github.com/scikit-learn/scikit-learn/issues/21755 */display: inline-block !important;position: relative;}#sk-container-id-6 div.sk-text-repr-fallback {display: none;}</style><div id=\"sk-container-id-6\" class=\"sk-top-container\"><div class=\"sk-text-repr-fallback\"><pre>RandomForestRegressor(random_state=42)</pre><b>In a Jupyter environment, please rerun this cell to show the HTML representation or trust the notebook. <br />On GitHub, the HTML representation is unable to render, please try loading this page with nbviewer.org.</b></div><div class=\"sk-container\" hidden><div class=\"sk-item\"><div class=\"sk-estimator sk-toggleable\"><input class=\"sk-toggleable__control sk-hidden--visually\" id=\"sk-estimator-id-6\" type=\"checkbox\" checked><label for=\"sk-estimator-id-6\" class=\"sk-toggleable__label sk-toggleable__label-arrow\">RandomForestRegressor</label><div class=\"sk-toggleable__content\"><pre>RandomForestRegressor(random_state=42)</pre></div></div></div></div></div>"
      ],
      "text/plain": [
       "RandomForestRegressor(random_state=42)"
      ]
     },
     "execution_count": 87,
     "metadata": {},
     "output_type": "execute_result"
    }
   ],
   "source": [
    "rate_model_rf.fit(x_train, y_train)"
   ]
  },
  {
   "cell_type": "code",
   "execution_count": 88,
   "id": "d698f5aa",
   "metadata": {},
   "outputs": [
    {
     "data": {
      "text/plain": [
       "array([23.3458, 23.7576, 23.6069, 30.9304, 21.9084, 24.905 , 21.8036,\n",
       "       24.3687, 23.1351, 23.5786, 23.1309, 20.8898, 23.2999, 24.959 ,\n",
       "       24.7881, 24.7307, 22.9248, 21.1226])"
      ]
     },
     "execution_count": 88,
     "metadata": {},
     "output_type": "execute_result"
    }
   ],
   "source": [
    "y_pred = rate_model_rf.predict(x_test)\n",
    "y_pred"
   ]
  },
  {
   "cell_type": "code",
   "execution_count": 89,
   "id": "f7df93e8",
   "metadata": {},
   "outputs": [
    {
     "data": {
      "text/html": [
       "<div>\n",
       "<style scoped>\n",
       "    .dataframe tbody tr th:only-of-type {\n",
       "        vertical-align: middle;\n",
       "    }\n",
       "\n",
       "    .dataframe tbody tr th {\n",
       "        vertical-align: top;\n",
       "    }\n",
       "\n",
       "    .dataframe thead th {\n",
       "        text-align: right;\n",
       "    }\n",
       "</style>\n",
       "<table border=\"1\" class=\"dataframe\">\n",
       "  <thead>\n",
       "    <tr style=\"text-align: right;\">\n",
       "      <th></th>\n",
       "      <th>0</th>\n",
       "    </tr>\n",
       "    <tr>\n",
       "      <th>Lending Rates(%)</th>\n",
       "      <th></th>\n",
       "    </tr>\n",
       "  </thead>\n",
       "  <tbody>\n",
       "    <tr>\n",
       "      <th>20.61</th>\n",
       "      <td>23.3458</td>\n",
       "    </tr>\n",
       "    <tr>\n",
       "      <th>23.08</th>\n",
       "      <td>23.7576</td>\n",
       "    </tr>\n",
       "    <tr>\n",
       "      <th>23.76</th>\n",
       "      <td>23.6069</td>\n",
       "    </tr>\n",
       "    <tr>\n",
       "      <th>35.58</th>\n",
       "      <td>30.9304</td>\n",
       "    </tr>\n",
       "    <tr>\n",
       "      <th>20.51</th>\n",
       "      <td>21.9084</td>\n",
       "    </tr>\n",
       "    <tr>\n",
       "      <th>24.14</th>\n",
       "      <td>24.9050</td>\n",
       "    </tr>\n",
       "    <tr>\n",
       "      <th>20.67</th>\n",
       "      <td>21.8036</td>\n",
       "    </tr>\n",
       "    <tr>\n",
       "      <th>24.04</th>\n",
       "      <td>24.3687</td>\n",
       "    </tr>\n",
       "    <tr>\n",
       "      <th>23.06</th>\n",
       "      <td>23.1351</td>\n",
       "    </tr>\n",
       "    <tr>\n",
       "      <th>23.26</th>\n",
       "      <td>23.5786</td>\n",
       "    </tr>\n",
       "    <tr>\n",
       "      <th>23.37</th>\n",
       "      <td>23.1309</td>\n",
       "    </tr>\n",
       "    <tr>\n",
       "      <th>20.57</th>\n",
       "      <td>20.8898</td>\n",
       "    </tr>\n",
       "    <tr>\n",
       "      <th>23.73</th>\n",
       "      <td>23.2999</td>\n",
       "    </tr>\n",
       "    <tr>\n",
       "      <th>25.64</th>\n",
       "      <td>24.9590</td>\n",
       "    </tr>\n",
       "    <tr>\n",
       "      <th>26.46</th>\n",
       "      <td>24.7881</td>\n",
       "    </tr>\n",
       "    <tr>\n",
       "      <th>23.94</th>\n",
       "      <td>24.7307</td>\n",
       "    </tr>\n",
       "    <tr>\n",
       "      <th>20.85</th>\n",
       "      <td>22.9248</td>\n",
       "    </tr>\n",
       "    <tr>\n",
       "      <th>21.30</th>\n",
       "      <td>21.1226</td>\n",
       "    </tr>\n",
       "  </tbody>\n",
       "</table>\n",
       "</div>"
      ],
      "text/plain": [
       "                        0\n",
       "Lending Rates(%)         \n",
       "20.61             23.3458\n",
       "23.08             23.7576\n",
       "23.76             23.6069\n",
       "35.58             30.9304\n",
       "20.51             21.9084\n",
       "24.14             24.9050\n",
       "20.67             21.8036\n",
       "24.04             24.3687\n",
       "23.06             23.1351\n",
       "23.26             23.5786\n",
       "23.37             23.1309\n",
       "20.57             20.8898\n",
       "23.73             23.2999\n",
       "25.64             24.9590\n",
       "26.46             24.7881\n",
       "23.94             24.7307\n",
       "20.85             22.9248\n",
       "21.30             21.1226"
      ]
     },
     "execution_count": 89,
     "metadata": {},
     "output_type": "execute_result"
    }
   ],
   "source": [
    "pd.DataFrame(y_pred, y_test)"
   ]
  },
  {
   "cell_type": "code",
   "execution_count": 90,
   "id": "d4cae0b2",
   "metadata": {},
   "outputs": [
    {
     "name": "stdout",
     "output_type": "stream",
     "text": [
      ">20.6, 23.3 = 7.485\n",
      ">23.1, 23.8 = 0.459\n",
      ">23.8, 23.6 = 0.023\n",
      ">35.6, 30.9 = 21.619\n",
      ">20.5, 21.9 = 1.956\n",
      ">24.1, 24.9 = 0.585\n",
      ">20.7, 21.8 = 1.285\n",
      ">24.0, 24.4 = 0.108\n",
      ">23.1, 23.1 = 0.006\n",
      ">23.3, 23.6 = 0.102\n",
      ">23.4, 23.1 = 0.057\n",
      ">20.6, 20.9 = 0.102\n",
      ">23.7, 23.3 = 0.185\n",
      ">25.6, 25.0 = 0.464\n",
      ">26.5, 24.8 = 2.795\n",
      ">23.9, 24.7 = 0.625\n",
      ">20.9, 22.9 = 4.305\n",
      ">21.3, 21.1 = 0.031\n"
     ]
    },
    {
     "data": {
      "image/png": "[encoded data removed]",
      "text/plain": [
       "<Figure size 640x480 with 1 Axes>"
      ]
     },
     "metadata": {},
     "output_type": "display_data"
    }
   ],
   "source": [
    "from sklearn.metrics import mean_squared_error\n",
    "# real value\n",
    "expected = y_test.tolist()\n",
    "# predicted value\n",
    "predicted = y_pred.tolist()\n",
    "# calculate errors\n",
    "errors = list()\n",
    "for i in range(len(expected)):\n",
    " # calculate error\n",
    " err = (expected[i] - predicted[i])**2\n",
    " # store error\n",
    " errors.append(err)\n",
    " # report error\n",
    " print('>%.1f, %.1f = %.3f' % (expected[i], predicted[i], err))\n",
    "# plot errors\n",
    "plt.plot(errors)\n",
    "plt.xticks(ticks=[i for i in range(len(errors))], labels=predicted)\n",
    "plt.xlabel('Predicted Value')\n",
    "plt.ylabel('Mean Squared Error')\n",
    "plt.show()"
   ]
  },
  {
   "cell_type": "code",
   "execution_count": 91,
   "id": "f869be63",
   "metadata": {},
   "outputs": [
    {
     "data": {
      "text/plain": [
       "2.343992172777798"
      ]
     },
     "execution_count": 91,
     "metadata": {},
     "output_type": "execute_result"
    }
   ],
   "source": [
    "expected = y_test.tolist()\n",
    "predicted = y_pred.tolist()\n",
    "errors = mean_squared_error(expected, predicted)\n",
    "errors"
   ]
  },
  {
   "cell_type": "code",
   "execution_count": 92,
   "id": "d6347efb",
   "metadata": {},
   "outputs": [
    {
     "name": "stdout",
     "output_type": "stream",
     "text": [
      "2.0075077809881936\n"
     ]
    }
   ],
   "source": [
    "# example of calculate the root mean squared error\n",
    "from sklearn.metrics import mean_squared_error\n",
    "# real value\n",
    "expected = y_pred.tolist()\n",
    "# predicted value\n",
    "predicted = predictions.tolist()\n",
    "# calculate errors\n",
    "errors = mean_squared_error(expected, predicted, squared=False)\n",
    "# report error\n",
    "print(errors)"
   ]
  },
  {
   "cell_type": "code",
   "execution_count": 93,
   "id": "33cedb29",
   "metadata": {},
   "outputs": [
    {
     "name": "stdout",
     "output_type": "stream",
     "text": [
      ">20.6, 23.3 = 2.736\n",
      ">23.1, 23.8 = 0.678\n",
      ">23.8, 23.6 = 0.153\n",
      ">35.6, 30.9 = 4.650\n",
      ">20.5, 21.9 = 1.398\n",
      ">24.1, 24.9 = 0.765\n",
      ">20.7, 21.8 = 1.134\n",
      ">24.0, 24.4 = 0.329\n",
      ">23.1, 23.1 = 0.075\n",
      ">23.3, 23.6 = 0.319\n",
      ">23.4, 23.1 = 0.239\n",
      ">20.6, 20.9 = 0.320\n",
      ">23.7, 23.3 = 0.430\n",
      ">25.6, 25.0 = 0.681\n",
      ">26.5, 24.8 = 1.672\n",
      ">23.9, 24.7 = 0.791\n",
      ">20.9, 22.9 = 2.075\n",
      ">21.3, 21.1 = 0.177\n"
     ]
    },
    {
     "data": {
      "image/png": "[encoded data removed]",
      "text/plain": [
       "<Figure size 640x480 with 1 Axes>"
      ]
     },
     "metadata": {},
     "output_type": "display_data"
    }
   ],
   "source": [
    "from sklearn.metrics import mean_squared_error\n",
    "# real value\n",
    "expected = y_test.tolist()\n",
    "# predicted value\n",
    "predicted = y_pred.tolist()\n",
    "# calculate errors\n",
    "errors = list()\n",
    "for i in range(len(expected)):\n",
    " # calculate error\n",
    " err = abs((expected[i] - predicted[i]))\n",
    " # store error\n",
    " errors.append(err)\n",
    " # report error\n",
    " print('>%.1f, %.1f = %.3f' % (expected[i], predicted[i], err))\n",
    "# plot errors\n",
    "plt.plot(errors)\n",
    "plt.xticks(ticks=[i for i in range(len(errors))], labels=predicted)\n",
    "plt.xlabel('Predicted Value')\n",
    "plt.ylabel('Mean Absolute Error')\n",
    "plt.show()"
   ]
  },
  {
   "cell_type": "code",
   "execution_count": 94,
   "id": "88a72b19",
   "metadata": {},
   "outputs": [
    {
     "name": "stdout",
     "output_type": "stream",
     "text": [
      "1.0344611111111144\n"
     ]
    }
   ],
   "source": [
    "from sklearn.metrics import mean_absolute_error\n",
    "# real value\n",
    "expected = y_test.tolist()\n",
    "# predicted value\n",
    "predicted = y_pred.tolist()\n",
    "# calculate errors\n",
    "errors = mean_absolute_error(expected, predicted)\n",
    "# report error\n",
    "print(errors)"
   ]
  },
  {
   "cell_type": "code",
   "execution_count": 95,
   "id": "f5535c8b",
   "metadata": {},
   "outputs": [
    {
     "data": {
      "text/plain": [
       "<matplotlib.collections.PathCollection at 0x27fd4d30640>"
      ]
     },
     "execution_count": 95,
     "metadata": {},
     "output_type": "execute_result"
    },
    {
     "data": {
      "image/png": "[encoded data removed]",
      "text/plain": [
       "<Figure size 640x480 with 1 Axes>"
      ]
     },
     "metadata": {},
     "output_type": "display_data"
    }
   ],
   "source": [
    "plt.scatter(y_test, y_pred)"
   ]
  },
  {
   "cell_type": "code",
   "execution_count": null,
   "id": "dd43b8f0",
   "metadata": {},
   "outputs": [],
   "source": []
  },
  {
   "cell_type": "code",
   "execution_count": null,
   "id": "7765621d",
   "metadata": {},
   "outputs": [],
   "source": []
  },
  {
   "cell_type": "code",
   "execution_count": null,
   "id": "700d3672",
   "metadata": {},
   "outputs": [],
   "source": []
  },
  {
   "cell_type": "markdown",
   "id": "d8a24d53",
   "metadata": {},
   "source": [
    "## Model Saving and Reuse"
   ]
  },
  {
   "cell_type": "code",
   "execution_count": 57,
   "id": "02bd9015",
   "metadata": {},
   "outputs": [],
   "source": [
    "import pickle"
   ]
  },
  {
   "cell_type": "code",
   "execution_count": 77,
   "id": "6516cfec",
   "metadata": {},
   "outputs": [],
   "source": [
    "pkl_filename = \"rate_model.pkl\"\n",
    "with open(pkl_filename, 'wb') as file:\n",
    "    pickle.dump(rate_model, file)"
   ]
  },
  {
   "cell_type": "code",
   "execution_count": 97,
   "id": "602d2ea6",
   "metadata": {},
   "outputs": [],
   "source": [
    "pkl_filename_rf = \"rate_model_rf.pkl\"\n",
    "with open(pkl_filename_rf, 'wb') as file:\n",
    "    pickle.dump(rate_model_rf, file)"
   ]
  },
  {
   "cell_type": "code",
   "execution_count": 81,
   "id": "0969a1df",
   "metadata": {},
   "outputs": [],
   "source": [
    "with open(pkl_filename, 'rb') as file:\n",
    "    rateModel = pickle.load(file)"
   ]
  },
  {
   "cell_type": "code",
   "execution_count": 98,
   "id": "25d89f28",
   "metadata": {},
   "outputs": [],
   "source": [
    "with open(pkl_filename_rf, 'rb') as file:\n",
    "    rateModelnf = pickle.load(file)"
   ]
  },
  {
   "cell_type": "code",
   "execution_count": 83,
   "id": "39c34efa",
   "metadata": {},
   "outputs": [],
   "source": [
    "predict_rates = rateModel.predict(x_test)"
   ]
  },
  {
   "cell_type": "code",
   "execution_count": 99,
   "id": "7c5f67b6",
   "metadata": {},
   "outputs": [],
   "source": [
    "predict_rates_rf = rateModelnf.predict(x_test)"
   ]
  },
  {
   "cell_type": "code",
   "execution_count": 84,
   "id": "3871f093",
   "metadata": {},
   "outputs": [
    {
     "data": {
      "text/plain": [
       "array([20.77569864, 22.70262456, 22.77815759, 34.34760139, 21.54537722,\n",
       "       22.57514343, 20.95305497, 22.68054867, 21.75580962, 22.65606654,\n",
       "       21.49648859, 24.12638401, 22.77486787, 22.55102565, 27.03108656,\n",
       "       22.47442356, 19.68948117, 21.99578755])"
      ]
     },
     "execution_count": 84,
     "metadata": {},
     "output_type": "execute_result"
    }
   ],
   "source": [
    "predict_rates"
   ]
  },
  {
   "cell_type": "code",
   "execution_count": 100,
   "id": "cafc9355",
   "metadata": {},
   "outputs": [
    {
     "data": {
      "text/plain": [
       "array([23.3458, 23.7576, 23.6069, 30.9304, 21.9084, 24.905 , 21.8036,\n",
       "       24.3687, 23.1351, 23.5786, 23.1309, 20.8898, 23.2999, 24.959 ,\n",
       "       24.7881, 24.7307, 22.9248, 21.1226])"
      ]
     },
     "execution_count": 100,
     "metadata": {},
     "output_type": "execute_result"
    }
   ],
   "source": [
    "predict_rates_rf"
   ]
  },
  {
   "cell_type": "code",
   "execution_count": 56,
   "id": "3322b15c",
   "metadata": {},
   "outputs": [
    {
     "data": {
      "text/plain": [
       "24    23.06\n",
       "2     20.57\n",
       "40    23.08\n",
       "57    23.90\n",
       "39    23.09\n",
       "8     29.81\n",
       "21    20.34\n",
       "45    23.65\n",
       "0     20.16\n",
       "54    23.94\n",
       "32    21.30\n",
       "43    23.96\n",
       "49    25.38\n",
       "17    20.61\n",
       "10    33.87\n",
       "15    20.93\n",
       "5     24.27\n",
       "34    20.95\n",
       "Name: Lending Rates(%), dtype: float64"
      ]
     },
     "execution_count": 56,
     "metadata": {},
     "output_type": "execute_result"
    }
   ],
   "source": [
    "y_test"
   ]
  },
  {
   "cell_type": "code",
   "execution_count": 57,
   "id": "28fc4433",
   "metadata": {},
   "outputs": [
    {
     "data": {
      "text/html": [
       "<div>\n",
       "<style scoped>\n",
       "    .dataframe tbody tr th:only-of-type {\n",
       "        vertical-align: middle;\n",
       "    }\n",
       "\n",
       "    .dataframe tbody tr th {\n",
       "        vertical-align: top;\n",
       "    }\n",
       "\n",
       "    .dataframe thead th {\n",
       "        text-align: right;\n",
       "    }\n",
       "</style>\n",
       "<table border=\"1\" class=\"dataframe\">\n",
       "  <thead>\n",
       "    <tr style=\"text-align: right;\">\n",
       "      <th></th>\n",
       "      <th>0</th>\n",
       "    </tr>\n",
       "    <tr>\n",
       "      <th>Lending Rates(%)</th>\n",
       "      <th></th>\n",
       "    </tr>\n",
       "  </thead>\n",
       "  <tbody>\n",
       "    <tr>\n",
       "      <th>23.06</th>\n",
       "      <td>21.966741</td>\n",
       "    </tr>\n",
       "    <tr>\n",
       "      <th>20.57</th>\n",
       "      <td>24.027716</td>\n",
       "    </tr>\n",
       "    <tr>\n",
       "      <th>23.08</th>\n",
       "      <td>23.064598</td>\n",
       "    </tr>\n",
       "    <tr>\n",
       "      <th>23.90</th>\n",
       "      <td>23.048888</td>\n",
       "    </tr>\n",
       "    <tr>\n",
       "      <th>23.09</th>\n",
       "      <td>23.208846</td>\n",
       "    </tr>\n",
       "    <tr>\n",
       "      <th>29.81</th>\n",
       "      <td>27.861262</td>\n",
       "    </tr>\n",
       "    <tr>\n",
       "      <th>20.34</th>\n",
       "      <td>22.834964</td>\n",
       "    </tr>\n",
       "    <tr>\n",
       "      <th>23.65</th>\n",
       "      <td>21.787593</td>\n",
       "    </tr>\n",
       "    <tr>\n",
       "      <th>20.16</th>\n",
       "      <td>23.354904</td>\n",
       "    </tr>\n",
       "    <tr>\n",
       "      <th>23.94</th>\n",
       "      <td>22.744742</td>\n",
       "    </tr>\n",
       "    <tr>\n",
       "      <th>21.30</th>\n",
       "      <td>22.045828</td>\n",
       "    </tr>\n",
       "    <tr>\n",
       "      <th>23.96</th>\n",
       "      <td>22.351771</td>\n",
       "    </tr>\n",
       "    <tr>\n",
       "      <th>25.38</th>\n",
       "      <td>22.811281</td>\n",
       "    </tr>\n",
       "    <tr>\n",
       "      <th>20.61</th>\n",
       "      <td>20.678837</td>\n",
       "    </tr>\n",
       "    <tr>\n",
       "      <th>33.87</th>\n",
       "      <td>30.715168</td>\n",
       "    </tr>\n",
       "    <tr>\n",
       "      <th>20.93</th>\n",
       "      <td>18.815073</td>\n",
       "    </tr>\n",
       "    <tr>\n",
       "      <th>24.27</th>\n",
       "      <td>26.202135</td>\n",
       "    </tr>\n",
       "    <tr>\n",
       "      <th>20.95</th>\n",
       "      <td>21.884546</td>\n",
       "    </tr>\n",
       "  </tbody>\n",
       "</table>\n",
       "</div>"
      ],
      "text/plain": [
       "                          0\n",
       "Lending Rates(%)           \n",
       "23.06             21.966741\n",
       "20.57             24.027716\n",
       "23.08             23.064598\n",
       "23.90             23.048888\n",
       "23.09             23.208846\n",
       "29.81             27.861262\n",
       "20.34             22.834964\n",
       "23.65             21.787593\n",
       "20.16             23.354904\n",
       "23.94             22.744742\n",
       "21.30             22.045828\n",
       "23.96             22.351771\n",
       "25.38             22.811281\n",
       "20.61             20.678837\n",
       "33.87             30.715168\n",
       "20.93             18.815073\n",
       "24.27             26.202135\n",
       "20.95             21.884546"
      ]
     },
     "execution_count": 57,
     "metadata": {},
     "output_type": "execute_result"
    }
   ],
   "source": [
    "pd.DataFrame(predict_rates, y_test)"
   ]
  },
  {
   "cell_type": "code",
   "execution_count": 103,
   "id": "ee135eca",
   "metadata": {},
   "outputs": [
    {
     "data": {
      "text/html": [
       "<div>\n",
       "<style scoped>\n",
       "    .dataframe tbody tr th:only-of-type {\n",
       "        vertical-align: middle;\n",
       "    }\n",
       "\n",
       "    .dataframe tbody tr th {\n",
       "        vertical-align: top;\n",
       "    }\n",
       "\n",
       "    .dataframe thead th {\n",
       "        text-align: right;\n",
       "    }\n",
       "</style>\n",
       "<table border=\"1\" class=\"dataframe\">\n",
       "  <thead>\n",
       "    <tr style=\"text-align: right;\">\n",
       "      <th></th>\n",
       "      <th>0</th>\n",
       "    </tr>\n",
       "    <tr>\n",
       "      <th>Lending Rates(%)</th>\n",
       "      <th></th>\n",
       "    </tr>\n",
       "  </thead>\n",
       "  <tbody>\n",
       "    <tr>\n",
       "      <th>20.61</th>\n",
       "      <td>23.3458</td>\n",
       "    </tr>\n",
       "    <tr>\n",
       "      <th>23.08</th>\n",
       "      <td>23.7576</td>\n",
       "    </tr>\n",
       "    <tr>\n",
       "      <th>23.76</th>\n",
       "      <td>23.6069</td>\n",
       "    </tr>\n",
       "    <tr>\n",
       "      <th>35.58</th>\n",
       "      <td>30.9304</td>\n",
       "    </tr>\n",
       "    <tr>\n",
       "      <th>20.51</th>\n",
       "      <td>21.9084</td>\n",
       "    </tr>\n",
       "    <tr>\n",
       "      <th>24.14</th>\n",
       "      <td>24.9050</td>\n",
       "    </tr>\n",
       "    <tr>\n",
       "      <th>20.67</th>\n",
       "      <td>21.8036</td>\n",
       "    </tr>\n",
       "    <tr>\n",
       "      <th>24.04</th>\n",
       "      <td>24.3687</td>\n",
       "    </tr>\n",
       "    <tr>\n",
       "      <th>23.06</th>\n",
       "      <td>23.1351</td>\n",
       "    </tr>\n",
       "    <tr>\n",
       "      <th>23.26</th>\n",
       "      <td>23.5786</td>\n",
       "    </tr>\n",
       "    <tr>\n",
       "      <th>23.37</th>\n",
       "      <td>23.1309</td>\n",
       "    </tr>\n",
       "    <tr>\n",
       "      <th>20.57</th>\n",
       "      <td>20.8898</td>\n",
       "    </tr>\n",
       "    <tr>\n",
       "      <th>23.73</th>\n",
       "      <td>23.2999</td>\n",
       "    </tr>\n",
       "    <tr>\n",
       "      <th>25.64</th>\n",
       "      <td>24.9590</td>\n",
       "    </tr>\n",
       "    <tr>\n",
       "      <th>26.46</th>\n",
       "      <td>24.7881</td>\n",
       "    </tr>\n",
       "    <tr>\n",
       "      <th>23.94</th>\n",
       "      <td>24.7307</td>\n",
       "    </tr>\n",
       "    <tr>\n",
       "      <th>20.85</th>\n",
       "      <td>22.9248</td>\n",
       "    </tr>\n",
       "    <tr>\n",
       "      <th>21.30</th>\n",
       "      <td>21.1226</td>\n",
       "    </tr>\n",
       "  </tbody>\n",
       "</table>\n",
       "</div>"
      ],
      "text/plain": [
       "                        0\n",
       "Lending Rates(%)         \n",
       "20.61             23.3458\n",
       "23.08             23.7576\n",
       "23.76             23.6069\n",
       "35.58             30.9304\n",
       "20.51             21.9084\n",
       "24.14             24.9050\n",
       "20.67             21.8036\n",
       "24.04             24.3687\n",
       "23.06             23.1351\n",
       "23.26             23.5786\n",
       "23.37             23.1309\n",
       "20.57             20.8898\n",
       "23.73             23.2999\n",
       "25.64             24.9590\n",
       "26.46             24.7881\n",
       "23.94             24.7307\n",
       "20.85             22.9248\n",
       "21.30             21.1226"
      ]
     },
     "execution_count": 103,
     "metadata": {},
     "output_type": "execute_result"
    }
   ],
   "source": [
    "pd.DataFrame(predict_rates_rf, y_test)"
   ]
  },
  {
   "cell_type": "code",
   "execution_count": 107,
   "id": "c55f69db",
   "metadata": {},
   "outputs": [
    {
     "data": {
      "text/html": [
       "<div>\n",
       "<style scoped>\n",
       "    .dataframe tbody tr th:only-of-type {\n",
       "        vertical-align: middle;\n",
       "    }\n",
       "\n",
       "    .dataframe tbody tr th {\n",
       "        vertical-align: top;\n",
       "    }\n",
       "\n",
       "    .dataframe thead th {\n",
       "        text-align: right;\n",
       "    }\n",
       "</style>\n",
       "<table border=\"1\" class=\"dataframe\">\n",
       "  <thead>\n",
       "    <tr style=\"text-align: right;\">\n",
       "      <th></th>\n",
       "      <th>0</th>\n",
       "      <th>1</th>\n",
       "      <th>2</th>\n",
       "      <th>3</th>\n",
       "      <th>4</th>\n",
       "      <th>5</th>\n",
       "      <th>6</th>\n",
       "      <th>7</th>\n",
       "      <th>8</th>\n",
       "      <th>9</th>\n",
       "      <th>10</th>\n",
       "      <th>11</th>\n",
       "      <th>12</th>\n",
       "      <th>13</th>\n",
       "      <th>14</th>\n",
       "      <th>15</th>\n",
       "      <th>16</th>\n",
       "      <th>17</th>\n",
       "    </tr>\n",
       "  </thead>\n",
       "  <tbody>\n",
       "    <tr>\n",
       "      <th>0</th>\n",
       "      <td>23.345800</td>\n",
       "      <td>23.757600</td>\n",
       "      <td>23.606900</td>\n",
       "      <td>30.930400</td>\n",
       "      <td>21.908400</td>\n",
       "      <td>24.905000</td>\n",
       "      <td>21.803600</td>\n",
       "      <td>24.368700</td>\n",
       "      <td>23.13510</td>\n",
       "      <td>23.578600</td>\n",
       "      <td>23.130900</td>\n",
       "      <td>20.889800</td>\n",
       "      <td>23.299900</td>\n",
       "      <td>24.959000</td>\n",
       "      <td>24.788100</td>\n",
       "      <td>24.730700</td>\n",
       "      <td>22.924800</td>\n",
       "      <td>21.122600</td>\n",
       "    </tr>\n",
       "    <tr>\n",
       "      <th>1</th>\n",
       "      <td>20.775699</td>\n",
       "      <td>22.702625</td>\n",
       "      <td>22.778158</td>\n",
       "      <td>34.347601</td>\n",
       "      <td>21.545377</td>\n",
       "      <td>22.575143</td>\n",
       "      <td>20.953055</td>\n",
       "      <td>22.680549</td>\n",
       "      <td>21.75581</td>\n",
       "      <td>22.656067</td>\n",
       "      <td>21.496489</td>\n",
       "      <td>24.126384</td>\n",
       "      <td>22.774868</td>\n",
       "      <td>22.551026</td>\n",
       "      <td>27.031087</td>\n",
       "      <td>22.474424</td>\n",
       "      <td>19.689481</td>\n",
       "      <td>21.995788</td>\n",
       "    </tr>\n",
       "    <tr>\n",
       "      <th>2</th>\n",
       "      <td>20.610000</td>\n",
       "      <td>23.080000</td>\n",
       "      <td>23.760000</td>\n",
       "      <td>35.580000</td>\n",
       "      <td>20.510000</td>\n",
       "      <td>24.140000</td>\n",
       "      <td>20.670000</td>\n",
       "      <td>24.040000</td>\n",
       "      <td>23.06000</td>\n",
       "      <td>23.260000</td>\n",
       "      <td>23.370000</td>\n",
       "      <td>20.570000</td>\n",
       "      <td>23.730000</td>\n",
       "      <td>25.640000</td>\n",
       "      <td>26.460000</td>\n",
       "      <td>23.940000</td>\n",
       "      <td>20.850000</td>\n",
       "      <td>21.300000</td>\n",
       "    </tr>\n",
       "  </tbody>\n",
       "</table>\n",
       "</div>"
      ],
      "text/plain": [
       "          0          1          2          3          4          5   \\\n",
       "0  23.345800  23.757600  23.606900  30.930400  21.908400  24.905000   \n",
       "1  20.775699  22.702625  22.778158  34.347601  21.545377  22.575143   \n",
       "2  20.610000  23.080000  23.760000  35.580000  20.510000  24.140000   \n",
       "\n",
       "          6          7         8          9          10         11         12  \\\n",
       "0  21.803600  24.368700  23.13510  23.578600  23.130900  20.889800  23.299900   \n",
       "1  20.953055  22.680549  21.75581  22.656067  21.496489  24.126384  22.774868   \n",
       "2  20.670000  24.040000  23.06000  23.260000  23.370000  20.570000  23.730000   \n",
       "\n",
       "          13         14         15         16         17  \n",
       "0  24.959000  24.788100  24.730700  22.924800  21.122600  \n",
       "1  22.551026  27.031087  22.474424  19.689481  21.995788  \n",
       "2  25.640000  26.460000  23.940000  20.850000  21.300000  "
      ]
     },
     "execution_count": 107,
     "metadata": {},
     "output_type": "execute_result"
    }
   ],
   "source": [
    "pd.DataFrame([predict_rates_rf, predict_rates, y_test])"
   ]
  },
  {
   "cell_type": "markdown",
   "id": "ec6bb8a9",
   "metadata": {},
   "source": [
    "## Deployment"
   ]
  },
  {
   "cell_type": "code",
   "execution_count": null,
   "id": "48004622",
   "metadata": {},
   "outputs": [],
   "source": []
  }
 ],
 "metadata": {
  "kernelspec": {
   "display_name": "Python 3 (ipykernel)",
   "language": "python",
   "name": "python3"
  },
  "language_info": {
   "codemirror_mode": {
    "name": "ipython",
    "version": 3
   },
   "file_extension": ".py",
   "mimetype": "text/x-python",
   "name": "python",
   "nbconvert_exporter": "python",
   "pygments_lexer": "ipython3",
   "version": "3.10.4"
  }
 },
 "nbformat": 4,
 "nbformat_minor": 5
}
